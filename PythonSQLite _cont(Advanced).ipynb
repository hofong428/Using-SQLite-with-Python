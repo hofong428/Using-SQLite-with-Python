{
 "cells": [
  {
   "cell_type": "code",
   "execution_count": 19,
   "id": "85f559a8",
   "metadata": {},
   "outputs": [
    {
     "name": "stdout",
     "output_type": "stream",
     "text": [
      "3.39.3\n"
     ]
    }
   ],
   "source": [
    "import sqlite3\n",
    "\n",
    "print(sqlite3.sqlite_version)"
   ]
  },
  {
   "cell_type": "markdown",
   "id": "f9f430b2",
   "metadata": {},
   "source": [
    "**Load the SQLite packgage**"
   ]
  },
  {
   "cell_type": "code",
   "execution_count": 20,
   "id": "cacab36f",
   "metadata": {},
   "outputs": [],
   "source": [
    "from pandasql import sqldf\n",
    "\n",
    "def pysqldf(q):\n",
    "    \"\"\"this function eliminates the need to include locals/globals all the time\"\"\"\n",
    "    return sqldf(q, globals())"
   ]
  },
  {
   "cell_type": "markdown",
   "id": "5fd15986",
   "metadata": {},
   "source": [
    "**Connect to the database**"
   ]
  },
  {
   "cell_type": "code",
   "execution_count": 21,
   "id": "4c789054",
   "metadata": {},
   "outputs": [],
   "source": [
    "conn = sqlite3.connect('aw_dw.db') #permanent database"
   ]
  },
  {
   "cell_type": "code",
   "execution_count": 22,
   "id": "4afa2a62",
   "metadata": {},
   "outputs": [
    {
     "name": "stdout",
     "output_type": "stream",
     "text": [
      "<sqlite3.Connection object at 0x00000132B385DC60>\n"
     ]
    }
   ],
   "source": [
    "print(conn)"
   ]
  },
  {
   "cell_type": "markdown",
   "id": "efb2e6ca",
   "metadata": {},
   "source": [
    "**Create a cursor to execute statement to SQLite.**"
   ]
  },
  {
   "cell_type": "code",
   "execution_count": 23,
   "id": "91f5f587",
   "metadata": {},
   "outputs": [],
   "source": [
    "cursor = conn.cursor()"
   ]
  },
  {
   "cell_type": "code",
   "execution_count": 8,
   "id": "18788b80",
   "metadata": {},
   "outputs": [
    {
     "data": {
      "text/plain": [
       "<sqlite3.Cursor at 0x132b3857c00>"
      ]
     },
     "execution_count": 8,
     "metadata": {},
     "output_type": "execute_result"
    }
   ],
   "source": [
    "cursor"
   ]
  },
  {
   "cell_type": "markdown",
   "id": "14b3fba6",
   "metadata": {},
   "source": [
    "# Our Strategy to Build the Warehouse.\n",
    "\n",
    "- Use pandas dataframes as the source of data to be loaded into warehouse.\n",
    "- Use SQLDF() to query and extract data from the source dataframes.\n",
    "- Note: SQLDF() allows you to query dataframes with SQL but there are no tables!!!\n",
    "- Use the Python SQLite3 library to create the warehouse tables and insert data."
   ]
  },
  {
   "cell_type": "code",
   "execution_count": 10,
   "id": "6bbfe2df",
   "metadata": {},
   "outputs": [
    {
     "data": {
      "text/html": [
       "<div>\n",
       "<style scoped>\n",
       "    .dataframe tbody tr th:only-of-type {\n",
       "        vertical-align: middle;\n",
       "    }\n",
       "\n",
       "    .dataframe tbody tr th {\n",
       "        vertical-align: top;\n",
       "    }\n",
       "\n",
       "    .dataframe thead th {\n",
       "        text-align: right;\n",
       "    }\n",
       "</style>\n",
       "<table border=\"1\" class=\"dataframe\">\n",
       "  <thead>\n",
       "    <tr style=\"text-align: right;\">\n",
       "      <th></th>\n",
       "      <th>DateKey</th>\n",
       "      <th>FullDateAlternateKey</th>\n",
       "      <th>DayNumberOfWeek</th>\n",
       "      <th>EnglishDayNameOfWeek</th>\n",
       "      <th>SpanishDayNameOfWeek</th>\n",
       "      <th>FrenchDayNameOfWeek</th>\n",
       "      <th>DayNumberOfMonth</th>\n",
       "      <th>DayNumberOfYear</th>\n",
       "      <th>WeekNumberOfYear</th>\n",
       "      <th>EnglishMonthName</th>\n",
       "      <th>SpanishMonthName</th>\n",
       "      <th>FrenchMonthName</th>\n",
       "      <th>MonthNumberOfYear</th>\n",
       "      <th>CalendarQuarter</th>\n",
       "      <th>CalendarYear</th>\n",
       "      <th>CalendarSemester</th>\n",
       "      <th>FiscalQuarter</th>\n",
       "      <th>FiscalYear</th>\n",
       "      <th>FiscalSemester</th>\n",
       "    </tr>\n",
       "  </thead>\n",
       "  <tbody>\n",
       "    <tr>\n",
       "      <th>2556</th>\n",
       "      <td>20120101</td>\n",
       "      <td>2012-01-01</td>\n",
       "      <td>1</td>\n",
       "      <td>Sunday</td>\n",
       "      <td>Domingo</td>\n",
       "      <td>Dimanche</td>\n",
       "      <td>1</td>\n",
       "      <td>1</td>\n",
       "      <td>1</td>\n",
       "      <td>January</td>\n",
       "      <td>Enero</td>\n",
       "      <td>Janvier</td>\n",
       "      <td>1</td>\n",
       "      <td>1</td>\n",
       "      <td>2012</td>\n",
       "      <td>1</td>\n",
       "      <td>3</td>\n",
       "      <td>2011</td>\n",
       "      <td>2</td>\n",
       "    </tr>\n",
       "    <tr>\n",
       "      <th>2557</th>\n",
       "      <td>20120102</td>\n",
       "      <td>2012-01-02</td>\n",
       "      <td>2</td>\n",
       "      <td>Monday</td>\n",
       "      <td>Lunes</td>\n",
       "      <td>Lundi</td>\n",
       "      <td>2</td>\n",
       "      <td>2</td>\n",
       "      <td>1</td>\n",
       "      <td>January</td>\n",
       "      <td>Enero</td>\n",
       "      <td>Janvier</td>\n",
       "      <td>1</td>\n",
       "      <td>1</td>\n",
       "      <td>2012</td>\n",
       "      <td>1</td>\n",
       "      <td>3</td>\n",
       "      <td>2011</td>\n",
       "      <td>2</td>\n",
       "    </tr>\n",
       "  </tbody>\n",
       "</table>\n",
       "</div>"
      ],
      "text/plain": [
       "       DateKey FullDateAlternateKey  DayNumberOfWeek EnglishDayNameOfWeek  \\\n",
       "2556  20120101           2012-01-01                1               Sunday   \n",
       "2557  20120102           2012-01-02                2               Monday   \n",
       "\n",
       "     SpanishDayNameOfWeek FrenchDayNameOfWeek  DayNumberOfMonth  \\\n",
       "2556              Domingo            Dimanche                 1   \n",
       "2557                Lunes               Lundi                 2   \n",
       "\n",
       "      DayNumberOfYear  WeekNumberOfYear EnglishMonthName SpanishMonthName  \\\n",
       "2556                1                 1          January            Enero   \n",
       "2557                2                 1          January            Enero   \n",
       "\n",
       "     FrenchMonthName  MonthNumberOfYear  CalendarQuarter  CalendarYear  \\\n",
       "2556         Janvier                  1                1          2012   \n",
       "2557         Janvier                  1                1          2012   \n",
       "\n",
       "      CalendarSemester  FiscalQuarter  FiscalYear  FiscalSemester  \n",
       "2556                 1              3        2011               2  \n",
       "2557                 1              3        2011               2  "
      ]
     },
     "execution_count": 10,
     "metadata": {},
     "output_type": "execute_result"
    }
   ],
   "source": [
    "import pandas as pd\n",
    "\n",
    "dfdate = pd.read_csv('./data/DimDate.csv')\n",
    "dfdate = dfdate[dfdate['DateKey'] > 20111231]\n",
    "dfdate.head(2)"
   ]
  },
  {
   "cell_type": "markdown",
   "id": "1ee907f4",
   "metadata": {},
   "source": [
    "**We can use sqldf to query the dataframe with SQL.**"
   ]
  },
  {
   "cell_type": "code",
   "execution_count": 11,
   "id": "252576a2",
   "metadata": {},
   "outputs": [
    {
     "data": {
      "text/html": [
       "<div>\n",
       "<style scoped>\n",
       "    .dataframe tbody tr th:only-of-type {\n",
       "        vertical-align: middle;\n",
       "    }\n",
       "\n",
       "    .dataframe tbody tr th {\n",
       "        vertical-align: top;\n",
       "    }\n",
       "\n",
       "    .dataframe thead th {\n",
       "        text-align: right;\n",
       "    }\n",
       "</style>\n",
       "<table border=\"1\" class=\"dataframe\">\n",
       "  <thead>\n",
       "    <tr style=\"text-align: right;\">\n",
       "      <th></th>\n",
       "      <th>DateKey</th>\n",
       "      <th>FullDateAlternateKey</th>\n",
       "      <th>DayNumberOfWeek</th>\n",
       "      <th>EnglishDayNameOfWeek</th>\n",
       "      <th>SpanishDayNameOfWeek</th>\n",
       "      <th>FrenchDayNameOfWeek</th>\n",
       "      <th>DayNumberOfMonth</th>\n",
       "      <th>DayNumberOfYear</th>\n",
       "      <th>WeekNumberOfYear</th>\n",
       "      <th>EnglishMonthName</th>\n",
       "      <th>SpanishMonthName</th>\n",
       "      <th>FrenchMonthName</th>\n",
       "      <th>MonthNumberOfYear</th>\n",
       "      <th>CalendarQuarter</th>\n",
       "      <th>CalendarYear</th>\n",
       "      <th>CalendarSemester</th>\n",
       "      <th>FiscalQuarter</th>\n",
       "      <th>FiscalYear</th>\n",
       "      <th>FiscalSemester</th>\n",
       "    </tr>\n",
       "  </thead>\n",
       "  <tbody>\n",
       "    <tr>\n",
       "      <th>0</th>\n",
       "      <td>20120101</td>\n",
       "      <td>2012-01-01</td>\n",
       "      <td>1</td>\n",
       "      <td>Sunday</td>\n",
       "      <td>Domingo</td>\n",
       "      <td>Dimanche</td>\n",
       "      <td>1</td>\n",
       "      <td>1</td>\n",
       "      <td>1</td>\n",
       "      <td>January</td>\n",
       "      <td>Enero</td>\n",
       "      <td>Janvier</td>\n",
       "      <td>1</td>\n",
       "      <td>1</td>\n",
       "      <td>2012</td>\n",
       "      <td>1</td>\n",
       "      <td>3</td>\n",
       "      <td>2011</td>\n",
       "      <td>2</td>\n",
       "    </tr>\n",
       "    <tr>\n",
       "      <th>1</th>\n",
       "      <td>20120102</td>\n",
       "      <td>2012-01-02</td>\n",
       "      <td>2</td>\n",
       "      <td>Monday</td>\n",
       "      <td>Lunes</td>\n",
       "      <td>Lundi</td>\n",
       "      <td>2</td>\n",
       "      <td>2</td>\n",
       "      <td>1</td>\n",
       "      <td>January</td>\n",
       "      <td>Enero</td>\n",
       "      <td>Janvier</td>\n",
       "      <td>1</td>\n",
       "      <td>1</td>\n",
       "      <td>2012</td>\n",
       "      <td>1</td>\n",
       "      <td>3</td>\n",
       "      <td>2011</td>\n",
       "      <td>2</td>\n",
       "    </tr>\n",
       "    <tr>\n",
       "      <th>2</th>\n",
       "      <td>20120103</td>\n",
       "      <td>2012-01-03</td>\n",
       "      <td>3</td>\n",
       "      <td>Tuesday</td>\n",
       "      <td>Martes</td>\n",
       "      <td>Mardi</td>\n",
       "      <td>3</td>\n",
       "      <td>3</td>\n",
       "      <td>1</td>\n",
       "      <td>January</td>\n",
       "      <td>Enero</td>\n",
       "      <td>Janvier</td>\n",
       "      <td>1</td>\n",
       "      <td>1</td>\n",
       "      <td>2012</td>\n",
       "      <td>1</td>\n",
       "      <td>3</td>\n",
       "      <td>2011</td>\n",
       "      <td>2</td>\n",
       "    </tr>\n",
       "  </tbody>\n",
       "</table>\n",
       "</div>"
      ],
      "text/plain": [
       "    DateKey FullDateAlternateKey  DayNumberOfWeek EnglishDayNameOfWeek  \\\n",
       "0  20120101           2012-01-01                1               Sunday   \n",
       "1  20120102           2012-01-02                2               Monday   \n",
       "2  20120103           2012-01-03                3              Tuesday   \n",
       "\n",
       "  SpanishDayNameOfWeek FrenchDayNameOfWeek  DayNumberOfMonth  DayNumberOfYear  \\\n",
       "0              Domingo            Dimanche                 1                1   \n",
       "1                Lunes               Lundi                 2                2   \n",
       "2               Martes               Mardi                 3                3   \n",
       "\n",
       "   WeekNumberOfYear EnglishMonthName SpanishMonthName FrenchMonthName  \\\n",
       "0                 1          January            Enero         Janvier   \n",
       "1                 1          January            Enero         Janvier   \n",
       "2                 1          January            Enero         Janvier   \n",
       "\n",
       "   MonthNumberOfYear  CalendarQuarter  CalendarYear  CalendarSemester  \\\n",
       "0                  1                1          2012                 1   \n",
       "1                  1                1          2012                 1   \n",
       "2                  1                1          2012                 1   \n",
       "\n",
       "   FiscalQuarter  FiscalYear  FiscalSemester  \n",
       "0              3        2011               2  \n",
       "1              3        2011               2  \n",
       "2              3        2011               2  "
      ]
     },
     "execution_count": 11,
     "metadata": {},
     "output_type": "execute_result"
    }
   ],
   "source": [
    "pysqldf('''select * from dfdate limit 3''')"
   ]
  },
  {
   "cell_type": "markdown",
   "id": "5042624c",
   "metadata": {},
   "source": [
    "**To execute more than one statement, use the executescript() method.**"
   ]
  },
  {
   "cell_type": "code",
   "execution_count": 12,
   "id": "4876c2f4",
   "metadata": {},
   "outputs": [],
   "source": [
    "create_dimdate = '''\n",
    "DROP TABLE IF EXISTS dimdate;\n",
    "\n",
    "CREATE TABLE dimdate (\n",
    "    DateKey                INTEGER NOT NULL PRIMARY KEY,\n",
    "    DateValue              DATE    NOT NULL,\n",
    "    DayNumberOfWeek        INTEGER NOT NULL,\n",
    "    DayNameOfWeek          TEXT    NOT NULL,\n",
    "    DayNumberOfMonth       INTEGER NOT NULL,\n",
    "    DayNumberOfYear        INTEGER NOT NULL,\n",
    "    WeekNumberOfYear       INTEGER NOT NULL,\n",
    "    MonthName              TEXT NOT NULL,\n",
    "    MonthNumberOfYear      INTEGER NOT NULL,\n",
    "    CalendarQuarter        INTEGER NOT NULL,\n",
    "    CalendarYear           INTEGER NOT NULL,\n",
    "    FiscalQuarter          INTEGER NOT NULL,\n",
    "    FiscalYear             INTEGER NOT NULL \n",
    ");\n",
    "''' "
   ]
  },
  {
   "cell_type": "code",
   "execution_count": 13,
   "id": "13f6a9c2",
   "metadata": {},
   "outputs": [
    {
     "data": {
      "text/plain": [
       "<sqlite3.Cursor at 0x132b3857c00>"
      ]
     },
     "execution_count": 13,
     "metadata": {},
     "output_type": "execute_result"
    }
   ],
   "source": [
    "cursor.executescript(create_dimdate)"
   ]
  },
  {
   "cell_type": "markdown",
   "id": "077864b5",
   "metadata": {},
   "source": [
    "#### Use sqldf() to pull just the data you want from the dataframe\n",
    "and append .to_sql() to write the results to your SQLite database."
   ]
  },
  {
   "cell_type": "code",
   "execution_count": 15,
   "id": "134a6fc9",
   "metadata": {},
   "outputs": [
    {
     "data": {
      "text/plain": [
       "1096"
      ]
     },
     "execution_count": 15,
     "metadata": {},
     "output_type": "execute_result"
    }
   ],
   "source": [
    "pysqldf(''' \n",
    "select  DateKey           \n",
    "       ,FullDateAlternateKey as DateValue         \n",
    "       ,DayNumberOfWeek   \n",
    "       ,EnglishDayNameOfWeek as DayNameOfWeek     \n",
    "       ,DayNumberOfMonth   \n",
    "       ,DayNumberOfYear   \n",
    "       ,WeekNumberOfYear  \n",
    "       ,EnglishMonthName as MonthName         \n",
    "       ,MonthNumberOfYear \n",
    "       ,CalendarQuarter   \n",
    "       ,CalendarYear      \n",
    "       ,FiscalQuarter     \n",
    "       ,FiscalYear   \n",
    "from dfdate;\n",
    "''').to_sql('dimdate', \n",
    "             con=conn, index=False, \n",
    "             if_exists='append')"
   ]
  },
  {
   "cell_type": "markdown",
   "id": "be6c5bf6",
   "metadata": {},
   "source": [
    "### SalesTerritory"
   ]
  },
  {
   "cell_type": "code",
   "execution_count": 16,
   "id": "7d7998d1",
   "metadata": {},
   "outputs": [],
   "source": [
    "import pandas as pd\n",
    "\n",
    "dfsalesterritory = pd.read_csv('./data/DimSalesTerritory.csv')"
   ]
  },
  {
   "cell_type": "markdown",
   "id": "b09bac18",
   "metadata": {},
   "source": [
    "### Let pandas create the table for us."
   ]
  },
  {
   "cell_type": "code",
   "execution_count": 17,
   "id": "55187ef2",
   "metadata": {},
   "outputs": [
    {
     "data": {
      "text/plain": [
       "11"
      ]
     },
     "execution_count": 17,
     "metadata": {},
     "output_type": "execute_result"
    }
   ],
   "source": [
    "pysqldf('''select SalesTerritoryKey, \n",
    "         SalesTerritoryRegion, \n",
    "         SalesTerritoryCountry, \n",
    "         SalesTerritoryGroup from dfsalesterritory;''').to_sql('dimsalesterritory', \n",
    "                                                               con=conn, index=False, \n",
    "                                                               if_exists='replace')"
   ]
  },
  {
   "cell_type": "markdown",
   "id": "2cd6da2a",
   "metadata": {},
   "source": [
    "### Create a unique index non the table."
   ]
  },
  {
   "cell_type": "code",
   "execution_count": 18,
   "id": "86ce95dc",
   "metadata": {},
   "outputs": [
    {
     "data": {
      "text/plain": [
       "<sqlite3.Cursor at 0x132b3857c00>"
      ]
     },
     "execution_count": 18,
     "metadata": {},
     "output_type": "execute_result"
    }
   ],
   "source": [
    "cursor.executescript('''\n",
    "BEGIN TRANSACTION;\n",
    "create unique index if not exists idx_salesterritorykey on dimsalesterritory (SalesTerritoryKey);  \n",
    "commit;\n",
    " ''')"
   ]
  },
  {
   "cell_type": "code",
   "execution_count": null,
   "id": "c6fda0eb",
   "metadata": {},
   "outputs": [],
   "source": []
  }
 ],
 "metadata": {
  "kernelspec": {
   "display_name": "Python 3 (ipykernel)",
   "language": "python",
   "name": "python3"
  },
  "language_info": {
   "codemirror_mode": {
    "name": "ipython",
    "version": 3
   },
   "file_extension": ".py",
   "mimetype": "text/x-python",
   "name": "python",
   "nbconvert_exporter": "python",
   "pygments_lexer": "ipython3",
   "version": "3.9.13"
  },
  "latex_envs": {
   "LaTeX_envs_menu_present": true,
   "autoclose": false,
   "autocomplete": true,
   "bibliofile": "biblio.bib",
   "cite_by": "apalike",
   "current_citInitial": 1,
   "eqLabelWithNumbers": true,
   "eqNumInitial": 1,
   "hotkeys": {
    "equation": "Ctrl-E",
    "itemize": "Ctrl-I"
   },
   "labels_anchors": false,
   "latex_user_defs": false,
   "report_style_numbering": false,
   "user_envs_cfg": false
  }
 },
 "nbformat": 4,
 "nbformat_minor": 5
}
